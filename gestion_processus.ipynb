{
 "cells": [
  {
   "cell_type": "code",
   "execution_count": 5,
   "metadata": {},
   "outputs": [],
   "source": [
    "import time"
   ]
  },
  {
   "cell_type": "code",
   "execution_count": 6,
   "metadata": {},
   "outputs": [
    {
     "name": "stdout",
     "output_type": "stream",
     "text": [
      "=== SYSTÈME D'EXPLOITATION SIMULÉ ===\n",
      "\n",
      "● Exécution A0003 (antivirus) - Priorité: Haut\n",
      "Progression: 8/8s\n",
      "✓ Processus A0003 terminé!\n",
      "\n",
      "● Exécution A0001 (Explorateur) - Priorité: Normal\n",
      "Progression: 4/4s\n",
      "✓ Processus A0001 terminé!\n",
      "\n",
      "● Exécution A0002 (video) - Priorité: Normal\n",
      "Progression: 6/6s\n",
      "✓ Processus A0002 terminé!\n",
      "\n",
      "● Exécution A0004 (vs code) - Priorité: Normal\n",
      "Progression: 10/10s\n",
      "✓ Processus A0004 terminé!\n",
      "\n",
      "● Exécution A0004 (MS Word) - Priorité: Normal\n",
      "Progression: 5/5s\n",
      "✓ Processus A0004 terminé!\n",
      "\n",
      "● Exécution A0004 (parametre) - Priorité: Normal\n",
      "Progression: 3/3s\n",
      "✓ Processus A0004 terminé!\n",
      "\n",
      "● Exécution A0004 (messagerie) - Priorité: Normal\n",
      "Progression: 5/5s\n",
      "✓ Processus A0004 terminé!\n",
      "Tous les processus sont terminés\n"
     ]
    }
   ],
   "source": [
    "# 1. STRUCTURE DE DONNÉES AMÉLIORÉE\n",
    "class Processus:\n",
    "    def __init__(self, pid, nom, priorite, temps_prevue):\n",
    "        self.pid = pid\n",
    "        self.nom = nom\n",
    "        self.priorite = priorite\n",
    "        self.temps_prevue = temps_prevue\n",
    "        self.temps_ecoule = 0\n",
    "        self.status = \"ready\"  # ready, running, waiting, terminated\n",
    "\n",
    "# 2. INITIALISATION SIMPLIFIÉE\n",
    "processus_liste = [\n",
    "    Processus(\"A0001\", \"Explorateur\", \"Normal\", 4),\n",
    "    Processus(\"A0002\", \"video\", \"Normal\", 6),\n",
    "    Processus(\"A0003\", \"antivirus\", \"Haut\", 8),\n",
    "    Processus(\"A0004\", \"vs code\", \"Normal\", 10),\n",
    "    Processus(\"A0004\", \"MS Word\", \"Normal\", 5),\n",
    "    Processus(\"A0004\", \"parametre\", \"Normal\", 3),\n",
    "    Processus(\"A0004\", \"messagerie\", \"Normal\", 5),\n",
    "]\n",
    "\n",
    "# 3. FONCTION D'EXÉCUTION AMÉLIORÉE\n",
    "def executer_systeme():\n",
    "    while True:\n",
    "        # A. Trouver le prochain processus à exécuter (par priorité)\n",
    "        prochain = None\n",
    "        for p in processus_liste:\n",
    "            if p.status == \"ready\":\n",
    "                if not prochain or p.priorite == \"Haut\":\n",
    "                    prochain = p\n",
    "        \n",
    "        # B. Si aucun processus trouvé, sortir\n",
    "        if not prochain:\n",
    "            print(\"Tous les processus sont terminés\")\n",
    "            break\n",
    "            \n",
    "        # C. Exécuter le processus\n",
    "        prochain.status = \"running\"\n",
    "        print(f\"\\n● Exécution {prochain.pid} ({prochain.nom}) - Priorité: {prochain.priorite}\")\n",
    "        \n",
    "        while prochain.temps_ecoule < prochain.temps_prevue:\n",
    "            time.sleep(1)  # Simulation du temps\n",
    "            prochain.temps_ecoule += 1\n",
    "            print(f\"Progression: {prochain.temps_ecoule}/{prochain.temps_prevue}s\", end='\\r')\n",
    "        \n",
    "        # D. Marquer comme terminé\n",
    "        prochain.status = \"terminated\"\n",
    "        print(f\"\\n✓ Processus {prochain.pid} terminé!\")\n",
    "\n",
    "# 4. LANCEMENT DU SYSTÈME\n",
    "print(\"=== SYSTÈME D'EXPLOITATION SIMULÉ ===\")\n",
    "executer_systeme()\n"
   ]
  }
 ],
 "metadata": {
  "kernelspec": {
   "display_name": "base",
   "language": "python",
   "name": "python3"
  },
  "language_info": {
   "codemirror_mode": {
    "name": "ipython",
    "version": 3
   },
   "file_extension": ".py",
   "mimetype": "text/x-python",
   "name": "python",
   "nbconvert_exporter": "python",
   "pygments_lexer": "ipython3",
   "version": "3.12.7"
  }
 },
 "nbformat": 4,
 "nbformat_minor": 2
}
